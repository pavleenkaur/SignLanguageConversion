{
 "cells": [
  {
   "cell_type": "code",
   "execution_count": 1,
   "metadata": {
    "collapsed": true
   },
   "outputs": [],
   "source": [
    "import pickle\n",
    "import sys\n",
    "import tensorflow as tf\n",
    "from tqdm import tqdm"
   ]
  },
  {
   "cell_type": "code",
   "execution_count": 11,
   "metadata": {
    "collapsed": true
   },
   "outputs": [],
   "source": [
    "def get_labels():\n",
    "    with open(\"/Users/pkaur/tensorflow/SignLanguage/InceptionModel/retrained_labels.txt\", 'r') as fin:\n",
    "        labels = [line.rstrip('\\n') for line in fin]\n",
    "    return labels"
   ]
  },
  {
   "cell_type": "code",
   "execution_count": 12,
   "metadata": {
    "collapsed": true
   },
   "outputs": [],
   "source": [
    "\"\"\"\n",
    "Go through all of our images and save out the pool layer\n",
    "representation of our images. This is not a prediction, but rather the\n",
    "convolutional representation of features that we can then pass to an\n",
    "RNN. The idea is that later we'll add an RNN layer directly onto\n",
    "the CNN. This gives us a way to test if that's a good strategy\n",
    "before putting in the work required to do so.\n",
    "\"\"\"\n",
    "\n",
    "def predict_on_frames(frames,labels,image_path):\n",
    "    # Unpersists graph from file\n",
    "    with tf.gfile.FastGFile(\"/Users/pkaur/tensorflow/SignLanguage/InceptionModel/retrained_graph.pb\", 'rb') as f:\n",
    "        graph_def = tf.GraphDef()\n",
    "        graph_def.ParseFromString(f.read())\n",
    "        _ = tf.import_graph_def(graph_def, name='')\n",
    "\n",
    "    with tf.Session() as sess:\n",
    "        pool_tensor = sess.graph.get_tensor_by_name('pool_3:0')\n",
    "\n",
    "        # Moving this into the session to make it faster.\n",
    "        cnn_features = []\n",
    "        pbar = tqdm(total=len(frames))\n",
    "        for i, frame in enumerate(frames):\n",
    "            filename = frame[0]\n",
    "            label = frame[1]\n",
    "\n",
    "            # For some reason, we have a tar reference in our pickled file.\n",
    "            if 'tar' in filename:\n",
    "                continue\n",
    "\n",
    "            # Get the image path.\n",
    "            image = image_path + label + \"/\" + filename\n",
    "\n",
    "            # Read in the image_data\n",
    "            image_data = tf.gfile.FastGFile(image, 'rb').read()\n",
    "\n",
    "            try:\n",
    "                cnn_representation = sess.run(pool_tensor,{'DecodeJpeg/contents:0': image_data})\n",
    "            except KeyboardInterrupt:\n",
    "                print(\"You quit with ctrl+c\")\n",
    "                sys.exit()\n",
    "            except:\n",
    "                print(\"Error making prediction, continuing.\")\n",
    "                continue\n",
    "\n",
    "            # Save it out.\n",
    "            frame_row = [cnn_representation, label]\n",
    "            cnn_features.append(frame_row)\n",
    "\n",
    "            if i > 0 and i % 10 == 0:\n",
    "                pbar.update(10)\n",
    "\n",
    "        pbar.close()\n",
    "\n",
    "        return cnn_features"
   ]
  },
  {
   "cell_type": "code",
   "execution_count": 17,
   "metadata": {
    "collapsed": false
   },
   "outputs": [],
   "source": [
    " def create_cnn_train(labels):\n",
    "    with open('/Users/pkaur/tensorflow/SignLanguage/labeled-images.pkl', 'rb') as fin:\n",
    "        frames = pickle.load(fin)\n",
    "\n",
    "    image_path = '/Users/pkaur/tensorflow/SignLanguage/SignDataTrain/'\n",
    "    train_cnn_features = predict_on_frames(frames, labels, image_path)\n",
    "\n",
    "    # Save the features\n",
    "    with open('/Users/pkaur/tensorflow/SignLanguage/cnn-features.pkl', 'wb') as fout:\n",
    "        pickle.dump(train_cnn_features, fout)\n",
    "\n",
    "    print(\"Done on Train.\")\n",
    "    \n",
    "\n",
    "def create_cnn_test(labels):\n",
    "    \n",
    "    with open('/Users/pkaur/tensorflow/SignLanguage/test-data-labeled-images.pkl', 'rb') as fin:\n",
    "        frames = pickle.load(fin)\n",
    "    \n",
    "    image_path = '/Users/pkaur/tensorflow/SignLanguage/SignDataTest/TestSet4/'\n",
    "    test_cnn_features = predict_on_frames(frames,labels,image_path)\n",
    "    \n",
    "    # Save the features\n",
    "    with open('/Users/pkaur/tensorflow/SignLanguage/test-data-cnn-features.pkl', 'wb') as fout:\n",
    "        pickle.dump(test_cnn_features, fout)\n",
    "    \n",
    "    print(\"Done on Test.\")\n",
    "\n",
    "    \n",
    "def main():\n",
    "    labels = get_labels()\n",
    "    \n",
    "    #create_cnn_train(labels);\n",
    "    create_cnn_test(labels);"
   ]
  },
  {
   "cell_type": "code",
   "execution_count": 18,
   "metadata": {
    "collapsed": false
   },
   "outputs": [
    {
     "name": "stderr",
     "output_type": "stream",
     "text": [
      "\n",
      "\n",
      "  0%|          | 0/222 [00:00<?, ?it/s]\u001b[A\u001b[A\n",
      "\n",
      "  5%|▍         | 10/222 [00:33<11:38,  3.30s/it]\u001b[A\u001b[A\n",
      "\n",
      "  9%|▉         | 20/222 [00:37<08:15,  2.45s/it]\u001b[A\u001b[A\n",
      "\n",
      " 14%|█▎        | 30/222 [00:42<05:57,  1.86s/it]\u001b[A\u001b[A\n",
      "\n",
      " 18%|█▊        | 40/222 [00:47<04:23,  1.45s/it]\u001b[A\u001b[A\n",
      "\n",
      " 23%|██▎       | 50/222 [00:52<03:20,  1.16s/it]\u001b[A\u001b[A\n",
      "\n",
      " 27%|██▋       | 60/222 [00:57<02:37,  1.03it/s]\u001b[A\u001b[A\n",
      "\n",
      " 32%|███▏      | 70/222 [01:03<02:09,  1.17it/s]\u001b[A\u001b[A\n",
      "\n",
      " 36%|███▌      | 80/222 [01:08<01:47,  1.32it/s]\u001b[A\u001b[A\n",
      "\n",
      " 41%|████      | 90/222 [01:13<01:29,  1.47it/s]\u001b[A\u001b[A\n",
      "\n",
      " 45%|████▌     | 100/222 [01:18<01:15,  1.62it/s]\u001b[A\u001b[A\n",
      "\n",
      " 50%|████▉     | 110/222 [01:23<01:04,  1.75it/s]\u001b[A\u001b[A\n",
      "\n",
      " 54%|█████▍    | 120/222 [01:27<00:55,  1.85it/s]\u001b[A\u001b[A\n",
      "\n",
      " 59%|█████▊    | 130/222 [01:32<00:47,  1.93it/s]\u001b[A\u001b[A\n",
      "\n",
      " 63%|██████▎   | 140/222 [01:37<00:41,  1.97it/s]\u001b[A\u001b[A\n",
      "\n",
      " 68%|██████▊   | 150/222 [01:42<00:35,  2.00it/s]\u001b[A\u001b[A\n",
      "\n",
      " 72%|███████▏  | 160/222 [01:46<00:30,  2.04it/s]\u001b[A\u001b[A\n",
      "\n",
      " 77%|███████▋  | 170/222 [01:51<00:25,  2.03it/s]\u001b[A\u001b[A\n",
      "\n",
      " 81%|████████  | 180/222 [01:56<00:20,  2.06it/s]\u001b[A\u001b[A\n",
      "\n",
      " 86%|████████▌ | 190/222 [02:01<00:15,  2.08it/s]\u001b[A\u001b[A\n",
      "\n",
      " 90%|█████████ | 200/222 [02:05<00:10,  2.09it/s]\u001b[A\u001b[A\n",
      "\n",
      " 95%|█████████▍| 210/222 [02:10<00:05,  2.11it/s]\u001b[A\u001b[A\n",
      "\n",
      " 99%|█████████▉| 220/222 [02:15<00:00,  2.11it/s]\u001b[A\u001b[A\n",
      "\n",
      "\u001b[A\u001b[A"
     ]
    },
    {
     "name": "stdout",
     "output_type": "stream",
     "text": [
      "Done on Test.\n"
     ]
    }
   ],
   "source": [
    "if __name__ == '__main__':\n",
    "    main()"
   ]
  },
  {
   "cell_type": "code",
   "execution_count": null,
   "metadata": {
    "collapsed": true
   },
   "outputs": [],
   "source": []
  }
 ],
 "metadata": {
  "anaconda-cloud": {},
  "kernelspec": {
   "display_name": "Python [conda root]",
   "language": "python",
   "name": "conda-root-py"
  },
  "language_info": {
   "codemirror_mode": {
    "name": "ipython",
    "version": 2
   },
   "file_extension": ".py",
   "mimetype": "text/x-python",
   "name": "python",
   "nbconvert_exporter": "python",
   "pygments_lexer": "ipython2",
   "version": "2.7.12"
  }
 },
 "nbformat": 4,
 "nbformat_minor": 1
}
