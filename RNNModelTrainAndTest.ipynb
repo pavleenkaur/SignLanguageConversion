{
 "cells": [
  {
   "cell_type": "code",
   "execution_count": 1,
   "metadata": {
    "collapsed": false
   },
   "outputs": [],
   "source": [
    "\"\"\"\n",
    "Utilities used by our other RNN scripts.\n",
    "\"\"\"\n",
    "from collections import deque\n",
    "from sklearn.cross_validation import train_test_split\n",
    "from tflearn.data_utils import to_categorical\n",
    "import tflearn\n",
    "import tensorflow as tf\n",
    "import numpy as np\n",
    "import pickle\n",
    "\n",
    "def get_data(filename, num_frames, num_classes, input_length):\n",
    "    \"\"\"Get the data from our saved predictions or pooled features.\"\"\"\n",
    "\n",
    "    # Local vars.\n",
    "    X = []\n",
    "    y = []\n",
    "    temp_list = deque()\n",
    "\n",
    "    # Open and get the features.\n",
    "    with open(filename, 'rb') as fin:\n",
    "        frames = pickle.load(fin)\n",
    "\n",
    "        for i, frame in enumerate(frames):\n",
    "            features = frame[0]\n",
    "            actual = frame[1]\n",
    "\n",
    "            # Convert our labels into binary.\n",
    "            if actual == 'again':\n",
    "                actual = 0\n",
    "            elif actual == 'cool':\n",
    "                actual = 1\n",
    "            elif actual == 'dont know':\n",
    "                actual = 2\n",
    "            elif actual == 'fingerspell':\n",
    "                actual = 3\n",
    "            elif actual == 'from':\n",
    "                actual = 4\n",
    "            elif actual == 'have to':\n",
    "                actual = 5\n",
    "            elif actual == 'her his':\n",
    "                actual = 6\n",
    "            elif actual == 'their':\n",
    "                actual = 7\n",
    "            elif actual == 'why':\n",
    "                actual = 8\n",
    "            elif actual == 'your':\n",
    "                actual = 9\n",
    "\n",
    "            # Add to the queue.\n",
    "            if len(temp_list) == num_frames - 1:\n",
    "                temp_list.append(features)\n",
    "                flat = list(temp_list)\n",
    "                X.append(np.array(flat))\n",
    "                y.append(actual)\n",
    "                temp_list.popleft()\n",
    "            else:\n",
    "                temp_list.append(features)\n",
    "                continue\n",
    "\n",
    "    print(\"Total dataset size: %d\" % len(X))\n",
    "    # Numpy.\n",
    "    X = np.array(X)\n",
    "    print(X.shape)\n",
    "    \n",
    "    y = np.array(y)\n",
    "    print(y.shape)\n",
    "\n",
    "    # Reshape.\n",
    "    X = X.reshape(-1, num_frames, input_length)\n",
    "\n",
    "    # One-hot encoded categoricals.\n",
    "    y = to_categorical(y, num_classes)\n",
    "\n",
    "    # Split into train and test.\n",
    "    X_train, X_test, y_train, y_test = train_test_split(\n",
    "        X, y, test_size=0.1, random_state=42)\n",
    "\n",
    "    return X_train, X_test, y_train, y_test\n",
    "\n",
    "def get_network(frames, input_size, num_classes):\n",
    "    \"\"\"Create our LSTM\"\"\"\n",
    "    net = tflearn.input_data(shape=[None, frames, input_size])\n",
    "    net = tflearn.lstm(net, 128, dropout=0.8, return_seq=True)\n",
    "    net = tflearn.lstm(net, 128)\n",
    "    net = tflearn.fully_connected(net, num_classes, activation='softmax')\n",
    "    net = tflearn.regression(net, optimizer='adam',\n",
    "                             loss='categorical_crossentropy', name=\"output1\")\n",
    "    return net\n",
    "\n",
    "def get_network_deep(frames, input_size, num_classes):\n",
    "    \"\"\"Create a deeper LSTM\"\"\"\n",
    "    net = tflearn.input_data(shape=[None, frames, input_size])\n",
    "    net = tflearn.lstm(net, 64, dropout=0.2, return_seq=True)\n",
    "    net = tflearn.lstm(net, 64, dropout=0.2, return_seq=True)\n",
    "    net = tflearn.lstm(net, 64, dropout=0.2)\n",
    "    net = tflearn.fully_connected(net, num_classes, activation='softmax')\n",
    "    net = tflearn.regression(net, optimizer='adam',\n",
    "                             loss='categorical_crossentropy', name=\"output1\")\n",
    "    return net\n",
    "\n",
    "def get_network_wide(frames, input_size, num_classes):\n",
    "    \"\"\"Create a wider LSTM\"\"\"\n",
    "    net = tflearn.input_data(shape=[None, frames, input_size])\n",
    "    net = tflearn.lstm(net, 256, dropout=0.2)\n",
    "    net = tflearn.fully_connected(net, num_classes, activation='softmax')\n",
    "    net = tflearn.regression(net, optimizer='adam',\n",
    "                             loss='categorical_crossentropy', name='output1')\n",
    "    return net\n",
    "\n",
    "def get_network_wider(frames, input_size, num_classes):\n",
    "    \"\"\"Create a wider LSTM\"\"\"\n",
    "    net = tflearn.input_data(shape=[None, frames, input_size])\n",
    "    net = tflearn.lstm(net, 512, dropout=0.2)\n",
    "    net = tflearn.fully_connected(net, num_classes, activation='softmax')\n",
    "    net = tflearn.regression(net, optimizer='adam',\n",
    "                             loss='categorical_crossentropy', name='output1')\n",
    "    return net"
   ]
  },
  {
   "cell_type": "code",
   "execution_count": 2,
   "metadata": {
    "collapsed": false
   },
   "outputs": [],
   "source": [
    "def train_main(filename, frames, batch_size, num_classes, input_length):\n",
    "    \"\"\"From the blog post linked above.\"\"\"\n",
    "    # Get our data.\n",
    "\n",
    "    X_train, X_test, y_train, y_test = get_data(filename, frames, num_classes, input_length)\n",
    "\n",
    "    # Get sizes.\n",
    "    num_classes = len(y_train[0])\n",
    "\n",
    "    tf.reset_default_graph()\n",
    "    # Get our network.\n",
    "    net = get_network_wide(frames, input_length, num_classes)\n",
    "\n",
    "    # Train the model.\n",
    "    model = tflearn.DNN(net, tensorboard_verbose=0)\n",
    "    \n",
    "    model.fit(X_train, y_train, validation_set=(X_test, y_test),\n",
    "              show_metric=True, batch_size=batch_size, snapshot_step=100,\n",
    "              n_epoch=150)\n",
    "\n",
    "    # Save it.\n",
    "    model.save('checkpoints/rnn.tflearn')"
   ]
  },
  {
   "cell_type": "code",
   "execution_count": 3,
   "metadata": {
    "collapsed": true
   },
   "outputs": [],
   "source": [
    "def test_main(filename, frames, batch_size, num_classes, input_length):\n",
    "    \"\"\"From the blog post linked above.\"\"\"\n",
    "    # Get our data.\n",
    "    X_train, _, y_train, _ = get_data(filename, frames, num_classes, input_length)\n",
    "    \n",
    "    # Get sizes.\n",
    "    num_classes = len(y_train[0])\n",
    "\n",
    "    # Get our network.\n",
    "    tf.reset_default_graph()\n",
    "    net = get_network_wide(frames, input_length, num_classes)\n",
    "\n",
    "    # Get our model.\n",
    "    model = tflearn.DNN(net, tensorboard_verbose=0)\n",
    "    model.load('checkpoints/rnn.tflearn', weights_only = True)\n",
    "\n",
    "    # Evaluate.\n",
    "    print(model.evaluate(X_train, y_train))"
   ]
  },
  {
   "cell_type": "code",
   "execution_count": 4,
   "metadata": {
    "collapsed": true
   },
   "outputs": [],
   "source": [
    "def model_train():\n",
    "    \n",
    "    filename = 'cnn-features.pkl'\n",
    "    input_length = 2048\n",
    "    \n",
    "    # If we were sending the predicted classes instead of the CNN features\n",
    "    # filename = 'test-data-predicted-frames.pkl'\n",
    "    # input_length = 2\n",
    "    \n",
    "    # Since RNN takes in a vector of features, here we have taken the vector size to be 10 - gave the best score\n",
    "    frames = 10\n",
    "    \n",
    "    # All the images cannot be fed into the neural network at once, hence created batches - took a random number ( ideally 32 is chosen )\n",
    "    batch_size = 32\n",
    "    \n",
    "    # Number of labels - to try the model, had considered 10 classes intially\n",
    "    num_classes = 10\n",
    "\n",
    "    train_main(filename, frames, batch_size, num_classes, input_length)\n"
   ]
  },
  {
   "cell_type": "code",
   "execution_count": 5,
   "metadata": {
    "collapsed": true
   },
   "outputs": [],
   "source": [
    "def model_test():\n",
    "    # If we were sending the predicted classes instead of the CNN features\n",
    "    # filename = 'data/predicted-frames-2.pkl'\n",
    "    # input_length = 2\n",
    "    \n",
    "    filename = 'test-data-cnn-features.pkl'\n",
    "    input_length = 2048\n",
    "    frames = 10\n",
    "    batch_size = 32\n",
    "    num_classes = 10\n",
    "\n",
    "    test_main(filename, frames, batch_size, num_classes, input_length)\n"
   ]
  },
  {
   "cell_type": "code",
   "execution_count": 7,
   "metadata": {
    "collapsed": false
   },
   "outputs": [
    {
     "name": "stdout",
     "output_type": "stream",
     "text": [
      "Total dataset size: 235\n",
      "(235, 10, 1, 1, 1, 2048)\n",
      "(235,)\n",
      "INFO:tensorflow:Restoring parameters from /Users/pkaur/tensorflow/SignLanguage/checkpoints/rnn.tflearn\n",
      "[0.57345970405786528]\n"
     ]
    }
   ],
   "source": [
    "# Test Set 2\n",
    "if __name__ == '__main__':\n",
    "#   model_train()\n",
    "    model_test()"
   ]
  },
  {
   "cell_type": "code",
   "execution_count": 8,
   "metadata": {
    "collapsed": false
   },
   "outputs": [
    {
     "name": "stdout",
     "output_type": "stream",
     "text": [
      "Total dataset size: 220\n",
      "(220, 10, 1, 1, 1, 2048)\n",
      "(220,)\n",
      "INFO:tensorflow:Restoring parameters from /Users/pkaur/tensorflow/SignLanguage/checkpoints/rnn.tflearn\n",
      "[0.46969696999800326]\n"
     ]
    }
   ],
   "source": [
    "# Test Set 3\n",
    "if __name__ == '__main__':\n",
    "#   model_train()\n",
    "    model_test()"
   ]
  },
  {
   "cell_type": "code",
   "execution_count": 9,
   "metadata": {
    "collapsed": false
   },
   "outputs": [
    {
     "name": "stdout",
     "output_type": "stream",
     "text": [
      "Total dataset size: 213\n",
      "(213, 10, 1, 1, 1, 2048)\n",
      "(213,)\n",
      "INFO:tensorflow:Restoring parameters from /Users/pkaur/tensorflow/SignLanguage/checkpoints/rnn.tflearn\n",
      "[0.49738220862693189]\n"
     ]
    }
   ],
   "source": [
    "# Test Set 4\n",
    "if __name__ == '__main__':\n",
    "#   model_train()\n",
    "    model_test()"
   ]
  },
  {
   "cell_type": "code",
   "execution_count": 10,
   "metadata": {
    "collapsed": false
   },
   "outputs": [
    {
     "ename": "EOFError",
     "evalue": "",
     "output_type": "error",
     "traceback": [
      "\u001b[0;31m---------------------------------------------------------------------------\u001b[0m",
      "\u001b[0;31mEOFError\u001b[0m                                  Traceback (most recent call last)",
      "\u001b[0;32m<ipython-input-10-32e0cd297f1a>\u001b[0m in \u001b[0;36m<module>\u001b[0;34m()\u001b[0m\n\u001b[1;32m      2\u001b[0m \u001b[0;32mif\u001b[0m \u001b[0m__name__\u001b[0m \u001b[0;34m==\u001b[0m \u001b[0;34m'__main__'\u001b[0m\u001b[0;34m:\u001b[0m\u001b[0;34m\u001b[0m\u001b[0m\n\u001b[1;32m      3\u001b[0m \u001b[0;31m#   model_train()\u001b[0m\u001b[0;34m\u001b[0m\u001b[0;34m\u001b[0m\u001b[0m\n\u001b[0;32m----> 4\u001b[0;31m     \u001b[0mmodel_test\u001b[0m\u001b[0;34m(\u001b[0m\u001b[0;34m)\u001b[0m\u001b[0;34m\u001b[0m\u001b[0m\n\u001b[0m",
      "\u001b[0;32m<ipython-input-5-c10c6c0e6e02>\u001b[0m in \u001b[0;36mmodel_test\u001b[0;34m()\u001b[0m\n\u001b[1;32m     10\u001b[0m     \u001b[0mnum_classes\u001b[0m \u001b[0;34m=\u001b[0m \u001b[0;36m10\u001b[0m\u001b[0;34m\u001b[0m\u001b[0m\n\u001b[1;32m     11\u001b[0m \u001b[0;34m\u001b[0m\u001b[0m\n\u001b[0;32m---> 12\u001b[0;31m     \u001b[0mtest_main\u001b[0m\u001b[0;34m(\u001b[0m\u001b[0mfilename\u001b[0m\u001b[0;34m,\u001b[0m \u001b[0mframes\u001b[0m\u001b[0;34m,\u001b[0m \u001b[0mbatch_size\u001b[0m\u001b[0;34m,\u001b[0m \u001b[0mnum_classes\u001b[0m\u001b[0;34m,\u001b[0m \u001b[0minput_length\u001b[0m\u001b[0;34m)\u001b[0m\u001b[0;34m\u001b[0m\u001b[0m\n\u001b[0m",
      "\u001b[0;32m<ipython-input-3-6c060cf2927f>\u001b[0m in \u001b[0;36mtest_main\u001b[0;34m(filename, frames, batch_size, num_classes, input_length)\u001b[0m\n\u001b[1;32m      2\u001b[0m     \u001b[0;34m\"\"\"From the blog post linked above.\"\"\"\u001b[0m\u001b[0;34m\u001b[0m\u001b[0m\n\u001b[1;32m      3\u001b[0m     \u001b[0;31m# Get our data.\u001b[0m\u001b[0;34m\u001b[0m\u001b[0;34m\u001b[0m\u001b[0m\n\u001b[0;32m----> 4\u001b[0;31m     \u001b[0mX_train\u001b[0m\u001b[0;34m,\u001b[0m \u001b[0m_\u001b[0m\u001b[0;34m,\u001b[0m \u001b[0my_train\u001b[0m\u001b[0;34m,\u001b[0m \u001b[0m_\u001b[0m \u001b[0;34m=\u001b[0m \u001b[0mget_data\u001b[0m\u001b[0;34m(\u001b[0m\u001b[0mfilename\u001b[0m\u001b[0;34m,\u001b[0m \u001b[0mframes\u001b[0m\u001b[0;34m,\u001b[0m \u001b[0mnum_classes\u001b[0m\u001b[0;34m,\u001b[0m \u001b[0minput_length\u001b[0m\u001b[0;34m)\u001b[0m\u001b[0;34m\u001b[0m\u001b[0m\n\u001b[0m\u001b[1;32m      5\u001b[0m \u001b[0;34m\u001b[0m\u001b[0m\n\u001b[1;32m      6\u001b[0m     \u001b[0;31m# Get sizes.\u001b[0m\u001b[0;34m\u001b[0m\u001b[0;34m\u001b[0m\u001b[0m\n",
      "\u001b[0;32m<ipython-input-1-a3f6d7c43868>\u001b[0m in \u001b[0;36mget_data\u001b[0;34m(filename, num_frames, num_classes, input_length)\u001b[0m\n\u001b[1;32m     20\u001b[0m     \u001b[0;31m# Open and get the features.\u001b[0m\u001b[0;34m\u001b[0m\u001b[0;34m\u001b[0m\u001b[0m\n\u001b[1;32m     21\u001b[0m     \u001b[0;32mwith\u001b[0m \u001b[0mopen\u001b[0m\u001b[0;34m(\u001b[0m\u001b[0mfilename\u001b[0m\u001b[0;34m,\u001b[0m \u001b[0;34m'rb'\u001b[0m\u001b[0;34m)\u001b[0m \u001b[0;32mas\u001b[0m \u001b[0mfin\u001b[0m\u001b[0;34m:\u001b[0m\u001b[0;34m\u001b[0m\u001b[0m\n\u001b[0;32m---> 22\u001b[0;31m         \u001b[0mframes\u001b[0m \u001b[0;34m=\u001b[0m \u001b[0mpickle\u001b[0m\u001b[0;34m.\u001b[0m\u001b[0mload\u001b[0m\u001b[0;34m(\u001b[0m\u001b[0mfin\u001b[0m\u001b[0;34m)\u001b[0m\u001b[0;34m\u001b[0m\u001b[0m\n\u001b[0m\u001b[1;32m     23\u001b[0m \u001b[0;34m\u001b[0m\u001b[0m\n\u001b[1;32m     24\u001b[0m         \u001b[0;32mfor\u001b[0m \u001b[0mi\u001b[0m\u001b[0;34m,\u001b[0m \u001b[0mframe\u001b[0m \u001b[0;32min\u001b[0m \u001b[0menumerate\u001b[0m\u001b[0;34m(\u001b[0m\u001b[0mframes\u001b[0m\u001b[0;34m)\u001b[0m\u001b[0;34m:\u001b[0m\u001b[0;34m\u001b[0m\u001b[0m\n",
      "\u001b[0;32m/Users/pkaur/anaconda/lib/python2.7/pickle.pyc\u001b[0m in \u001b[0;36mload\u001b[0;34m(file)\u001b[0m\n\u001b[1;32m   1382\u001b[0m \u001b[0;34m\u001b[0m\u001b[0m\n\u001b[1;32m   1383\u001b[0m \u001b[0;32mdef\u001b[0m \u001b[0mload\u001b[0m\u001b[0;34m(\u001b[0m\u001b[0mfile\u001b[0m\u001b[0;34m)\u001b[0m\u001b[0;34m:\u001b[0m\u001b[0;34m\u001b[0m\u001b[0m\n\u001b[0;32m-> 1384\u001b[0;31m     \u001b[0;32mreturn\u001b[0m \u001b[0mUnpickler\u001b[0m\u001b[0;34m(\u001b[0m\u001b[0mfile\u001b[0m\u001b[0;34m)\u001b[0m\u001b[0;34m.\u001b[0m\u001b[0mload\u001b[0m\u001b[0;34m(\u001b[0m\u001b[0;34m)\u001b[0m\u001b[0;34m\u001b[0m\u001b[0m\n\u001b[0m\u001b[1;32m   1385\u001b[0m \u001b[0;34m\u001b[0m\u001b[0m\n\u001b[1;32m   1386\u001b[0m \u001b[0;32mdef\u001b[0m \u001b[0mloads\u001b[0m\u001b[0;34m(\u001b[0m\u001b[0mstr\u001b[0m\u001b[0;34m)\u001b[0m\u001b[0;34m:\u001b[0m\u001b[0;34m\u001b[0m\u001b[0m\n",
      "\u001b[0;32m/Users/pkaur/anaconda/lib/python2.7/pickle.pyc\u001b[0m in \u001b[0;36mload\u001b[0;34m(self)\u001b[0m\n\u001b[1;32m    862\u001b[0m             \u001b[0;32mwhile\u001b[0m \u001b[0;36m1\u001b[0m\u001b[0;34m:\u001b[0m\u001b[0;34m\u001b[0m\u001b[0m\n\u001b[1;32m    863\u001b[0m                 \u001b[0mkey\u001b[0m \u001b[0;34m=\u001b[0m \u001b[0mread\u001b[0m\u001b[0;34m(\u001b[0m\u001b[0;36m1\u001b[0m\u001b[0;34m)\u001b[0m\u001b[0;34m\u001b[0m\u001b[0m\n\u001b[0;32m--> 864\u001b[0;31m                 \u001b[0mdispatch\u001b[0m\u001b[0;34m[\u001b[0m\u001b[0mkey\u001b[0m\u001b[0;34m]\u001b[0m\u001b[0;34m(\u001b[0m\u001b[0mself\u001b[0m\u001b[0;34m)\u001b[0m\u001b[0;34m\u001b[0m\u001b[0m\n\u001b[0m\u001b[1;32m    865\u001b[0m         \u001b[0;32mexcept\u001b[0m \u001b[0m_Stop\u001b[0m\u001b[0;34m,\u001b[0m \u001b[0mstopinst\u001b[0m\u001b[0;34m:\u001b[0m\u001b[0;34m\u001b[0m\u001b[0m\n\u001b[1;32m    866\u001b[0m             \u001b[0;32mreturn\u001b[0m \u001b[0mstopinst\u001b[0m\u001b[0;34m.\u001b[0m\u001b[0mvalue\u001b[0m\u001b[0;34m\u001b[0m\u001b[0m\n",
      "\u001b[0;32m/Users/pkaur/anaconda/lib/python2.7/pickle.pyc\u001b[0m in \u001b[0;36mload_eof\u001b[0;34m(self)\u001b[0m\n\u001b[1;32m    884\u001b[0m \u001b[0;34m\u001b[0m\u001b[0m\n\u001b[1;32m    885\u001b[0m     \u001b[0;32mdef\u001b[0m \u001b[0mload_eof\u001b[0m\u001b[0;34m(\u001b[0m\u001b[0mself\u001b[0m\u001b[0;34m)\u001b[0m\u001b[0;34m:\u001b[0m\u001b[0;34m\u001b[0m\u001b[0m\n\u001b[0;32m--> 886\u001b[0;31m         \u001b[0;32mraise\u001b[0m \u001b[0mEOFError\u001b[0m\u001b[0;34m\u001b[0m\u001b[0m\n\u001b[0m\u001b[1;32m    887\u001b[0m     \u001b[0mdispatch\u001b[0m\u001b[0;34m[\u001b[0m\u001b[0;34m''\u001b[0m\u001b[0;34m]\u001b[0m \u001b[0;34m=\u001b[0m \u001b[0mload_eof\u001b[0m\u001b[0;34m\u001b[0m\u001b[0m\n\u001b[1;32m    888\u001b[0m \u001b[0;34m\u001b[0m\u001b[0m\n",
      "\u001b[0;31mEOFError\u001b[0m: "
     ]
    }
   ],
   "source": [
    "# Test Set 1\n",
    "if __name__ == '__main__':\n",
    "#   model_train()\n",
    "    model_test()"
   ]
  },
  {
   "cell_type": "code",
   "execution_count": null,
   "metadata": {
    "collapsed": true
   },
   "outputs": [],
   "source": []
  }
 ],
 "metadata": {
  "anaconda-cloud": {},
  "kernelspec": {
   "display_name": "Python [conda root]",
   "language": "python",
   "name": "conda-root-py"
  },
  "language_info": {
   "codemirror_mode": {
    "name": "ipython",
    "version": 2
   },
   "file_extension": ".py",
   "mimetype": "text/x-python",
   "name": "python",
   "nbconvert_exporter": "python",
   "pygments_lexer": "ipython2",
   "version": "2.7.12"
  }
 },
 "nbformat": 4,
 "nbformat_minor": 1
}
